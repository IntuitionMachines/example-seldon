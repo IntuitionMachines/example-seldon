{
 "cells": [
  {
   "cell_type": "markdown",
   "metadata": {},
   "source": [
    "# Train Various Models on MNIST using kubeflow and seldon-core\n",
    "\n",
    "Using:\n",
    "\n",
    " * kubeflow\n",
    " * seldon-core\n",
    " \n",
    "The example will be the MNIST handwriiten digit classification task.\n",
    "\n",
    "![MNIST](mnist.png \"MNIST Digits\")\n",
    "\n",
    "### Dependencies\n",
    "\n",
    "  * Argo"
   ]
  },
  {
   "cell_type": "markdown",
   "metadata": {},
   "source": [
    "# Setup\n"
   ]
  },
  {
   "cell_type": "code",
   "execution_count": 1,
   "metadata": {},
   "outputs": [
    {
     "name": "stdout",
     "output_type": "stream",
     "text": [
      "Context \"oldcluster\" modified.\r\n"
     ]
    }
   ],
   "source": [
    "!kubectl config set-context oldcluster --namespace=kubeflow"
   ]
  },
  {
   "cell_type": "markdown",
   "metadata": {},
   "source": [
    "# Tensorflow Model\n",
    " A simple neural network in Tensorflow."
   ]
  },
  {
   "cell_type": "markdown",
   "metadata": {},
   "source": [
    "### Training\n",
    " * Create image from source\n",
    " * Run training\n",
    " \n",
    "\n",
    "Run with:\n",
    "  * ``` -p build-push-image=true``` to build image and push to repo, needed extra params:\n",
    "    * ``` -p version=<version>``` create ```<version>``` of model\n",
    "    * ``` -p github-user=<github-user>``` to download example-seldon source from ```<github-user>``` account\n",
    "    * ``` -p github-revision=<revision>``` to use the github branch ```<revision>```\n",
    "    * ``` -p docker-org=<docker-org>``` to use Docker repo ```<docker-org>``` to push image to. Needs docker credentials in secret as described in README."
   ]
  },
  {
   "cell_type": "code",
   "execution_count": 8,
   "metadata": {},
   "outputs": [
    {
     "name": "stdout",
     "output_type": "stream",
     "text": [
      "\u001b[94mapiVersion\u001b[39;49;00m: argoproj.io/v1alpha1\r\n",
      "\u001b[94mkind\u001b[39;49;00m: Workflow\r\n",
      "\u001b[94mmetadata\u001b[39;49;00m:\r\n",
      "  \u001b[94mgenerateName\u001b[39;49;00m: kubeflow-tf-train-\r\n",
      "\u001b[94mspec\u001b[39;49;00m:\r\n",
      "  \u001b[94mentrypoint\u001b[39;49;00m: workflow\r\n",
      "  \u001b[94marguments\u001b[39;49;00m:\r\n",
      "    \u001b[94mparameters\u001b[39;49;00m:\r\n",
      "    - \u001b[94mname\u001b[39;49;00m: version\r\n",
      "      \u001b[94mvalue\u001b[39;49;00m: 0.1\r\n",
      "    - \u001b[94mname\u001b[39;49;00m: github-user\r\n",
      "      \u001b[94mvalue\u001b[39;49;00m: kubeflow\r\n",
      "    - \u001b[94mname\u001b[39;49;00m: github-revision\r\n",
      "      \u001b[94mvalue\u001b[39;49;00m: master\r\n",
      "    - \u001b[94mname\u001b[39;49;00m: docker-org\r\n",
      "      \u001b[94mvalue\u001b[39;49;00m: index.docker.io/seldonio\r\n",
      "    - \u001b[94mname\u001b[39;49;00m: tfjob-version-hack\r\n",
      "      \u001b[94mvalue\u001b[39;49;00m: 1\r\n",
      "    - \u001b[94mname\u001b[39;49;00m: build-push-image\r\n",
      "      \u001b[94mvalue\u001b[39;49;00m: false\r\n",
      "  \u001b[94mvolumes\u001b[39;49;00m:\r\n",
      "  - \u001b[94mname\u001b[39;49;00m: docker-config\r\n",
      "    \u001b[94msecret\u001b[39;49;00m:\r\n",
      "      \u001b[94msecretName\u001b[39;49;00m: docker-config     \u001b[37m# name of an existing k8s secret\u001b[39;49;00m\r\n",
      "  \u001b[94mvolumeClaimTemplates\u001b[39;49;00m:\r\n",
      "  - \u001b[94mmetadata\u001b[39;49;00m:\r\n",
      "      \u001b[94mname\u001b[39;49;00m: workspace\r\n",
      "    \u001b[94mspec\u001b[39;49;00m:\r\n",
      "      \u001b[94maccessModes\u001b[39;49;00m: [ \u001b[33m\"\u001b[39;49;00m\u001b[33mReadWriteOnce\u001b[39;49;00m\u001b[33m\"\u001b[39;49;00m ]\r\n",
      "      \u001b[94mresources\u001b[39;49;00m:\r\n",
      "        \u001b[94mrequests\u001b[39;49;00m:\r\n",
      "          \u001b[94mstorage\u001b[39;49;00m: 0.5Gi\r\n",
      "  \u001b[94mtemplates\u001b[39;49;00m:\r\n",
      "  - \u001b[94mname\u001b[39;49;00m: workflow\r\n",
      "    \u001b[94msteps\u001b[39;49;00m:\r\n",
      "    - - \u001b[94mname\u001b[39;49;00m: get-source\r\n",
      "        \u001b[94mtemplate\u001b[39;49;00m: get-source-code\r\n",
      "    - - \u001b[94mname\u001b[39;49;00m: build-push\r\n",
      "        \u001b[94mtemplate\u001b[39;49;00m: build-and-push\r\n",
      "        \u001b[94mwhen\u001b[39;49;00m: \u001b[33m\"\u001b[39;49;00m\u001b[33m{{workflow.parameters.build-push-image}}\u001b[39;49;00m\u001b[31m \u001b[39;49;00m\u001b[33m==\u001b[39;49;00m\u001b[31m \u001b[39;49;00m\u001b[33mtrue\u001b[39;49;00m\u001b[33m\"\u001b[39;49;00m\r\n",
      "    - - \u001b[94mname\u001b[39;49;00m: train\r\n",
      "        \u001b[94mtemplate\u001b[39;49;00m: tfjob\r\n",
      "  - \u001b[94mname\u001b[39;49;00m: get-source-code\r\n",
      "    \u001b[94minputs\u001b[39;49;00m:\r\n",
      "      \u001b[94martifacts\u001b[39;49;00m:\r\n",
      "      - \u001b[94mname\u001b[39;49;00m: argo-source\r\n",
      "        \u001b[94mpath\u001b[39;49;00m: /src/example-seldon\r\n",
      "        \u001b[94mgit\u001b[39;49;00m:\r\n",
      "          \u001b[94mrepo\u001b[39;49;00m: https://github.com/{{workflow.parameters.github-user}}/example-seldon.git\r\n",
      "          \u001b[94mrevision\u001b[39;49;00m: \u001b[33m\"\u001b[39;49;00m\u001b[33m{{workflow.parameters.github-revision}}\u001b[39;49;00m\u001b[33m\"\u001b[39;49;00m\r\n",
      "    \u001b[94mcontainer\u001b[39;49;00m:\r\n",
      "      \u001b[94mimage\u001b[39;49;00m: alpine:latest\r\n",
      "      \u001b[94mcommand\u001b[39;49;00m: [\u001b[31msh\u001b[39;49;00m, \u001b[31m-c\u001b[39;49;00m]\r\n",
      "      \u001b[94margs\u001b[39;49;00m: [\u001b[33m\"\u001b[39;49;00m\u001b[33mcp\u001b[39;49;00m\u001b[31m \u001b[39;49;00m\u001b[33m/src/example-seldon/models/tf_mnist/train/*\u001b[39;49;00m\u001b[31m \u001b[39;49;00m\u001b[33m/workspace/;\u001b[39;49;00m\u001b[31m \u001b[39;49;00m\u001b[33mls\u001b[39;49;00m\u001b[31m \u001b[39;49;00m\u001b[33m/workspace/\u001b[39;49;00m\u001b[33m\"\u001b[39;49;00m]\r\n",
      "      \u001b[94mvolumeMounts\u001b[39;49;00m:\r\n",
      "      - \u001b[94mname\u001b[39;49;00m: workspace\r\n",
      "        \u001b[94mmountPath\u001b[39;49;00m: /workspace\r\n",
      "  - \u001b[94mname\u001b[39;49;00m: build-and-push\r\n",
      "    \u001b[94mcontainer\u001b[39;49;00m:\r\n",
      "      \u001b[94mimage\u001b[39;49;00m: gcr.io/kaniko-project/executor:latest\r\n",
      "      \u001b[94margs\u001b[39;49;00m: [\u001b[33m\"\u001b[39;49;00m\u001b[33m--dockerfile\u001b[39;49;00m\u001b[33m\"\u001b[39;49;00m,\u001b[33m\"\u001b[39;49;00m\u001b[33mDockerfile\u001b[39;49;00m\u001b[33m\"\u001b[39;49;00m,\u001b[33m\"\u001b[39;49;00m\u001b[33m--destination\u001b[39;49;00m\u001b[33m\"\u001b[39;49;00m,\u001b[33m\"\u001b[39;49;00m\u001b[33m{{workflow.parameters.docker-org}}/deepmnistclassifier_trainer:{{workflow.parameters.version}}\u001b[39;49;00m\u001b[33m\"\u001b[39;49;00m]\r\n",
      "      \u001b[94mworkingDir\u001b[39;49;00m: /src/example-seldon/models/tf_mnist/train/\r\n",
      "      \u001b[94mvolumeMounts\u001b[39;49;00m:\r\n",
      "      - \u001b[94mname\u001b[39;49;00m: docker-config\r\n",
      "        \u001b[94mmountPath\u001b[39;49;00m: \u001b[33m\"\u001b[39;49;00m\u001b[33m/root/.docker/\u001b[39;49;00m\u001b[33m\"\u001b[39;49;00m\r\n",
      "      - \u001b[94mname\u001b[39;49;00m: workspace\r\n",
      "        \u001b[94mmountPath\u001b[39;49;00m: /workspace\r\n",
      "  - \u001b[94mname\u001b[39;49;00m: tfjob\r\n",
      "    \u001b[94mresource\u001b[39;49;00m:                   \u001b[37m#indicates that this is a resource template\u001b[39;49;00m\r\n",
      "      \u001b[94maction\u001b[39;49;00m: create             \u001b[37m#can be any kubectl action (e.g. create, delete, apply, patch)\u001b[39;49;00m\r\n",
      "      \u001b[37m#successCondition: status.tfReplicaStatuses.Worker.succeeded == 1\u001b[39;49;00m\r\n",
      "      \u001b[37m#successCondition: status.conditions.type == Succeeded\u001b[39;49;00m\r\n",
      "      \u001b[94msuccessCondition\u001b[39;49;00m: status.replicaStatuses.Worker.succeeded == 1\r\n",
      "      \u001b[94mmanifest\u001b[39;49;00m: |   \u001b[37m#put your kubernetes spec here\u001b[39;49;00m\r\n",
      "       \u001b[31mapiVersion: \"kubeflow.org/v1alpha1\"\u001b[39;49;00m\r\n",
      "       \u001b[31mkind: \"TFJob\"\u001b[39;49;00m\r\n",
      "       \u001b[31mmetadata:\u001b[39;49;00m\r\n",
      "         \u001b[31mname: mnist-train-{{workflow.parameters.tfjob-version-hack}}\u001b[39;49;00m\r\n",
      "         \u001b[31mownerReferences:\u001b[39;49;00m\r\n",
      "         \u001b[31m- apiVersion: argoproj.io/v1alpha1\u001b[39;49;00m\r\n",
      "           \u001b[31mkind: Workflow\u001b[39;49;00m\r\n",
      "           \u001b[31mcontroller: true\u001b[39;49;00m\r\n",
      "           \u001b[31mname: {{workflow.name}}\u001b[39;49;00m\r\n",
      "           \u001b[31muid: {{workflow.uid}}\u001b[39;49;00m\r\n",
      "       \u001b[31mspec:\u001b[39;49;00m\r\n",
      "         \u001b[31mtfReplicaSpecs:\u001b[39;49;00m\r\n",
      "           \u001b[31mWorker:\u001b[39;49;00m\r\n",
      "             \u001b[31mreplicas: 1\u001b[39;49;00m\r\n",
      "             \u001b[31mtemplate:\u001b[39;49;00m\r\n",
      "               \u001b[31mspec:\u001b[39;49;00m\r\n",
      "                 \u001b[31mcontainers:\u001b[39;49;00m\r\n",
      "                   \u001b[31m-\u001b[39;49;00m\r\n",
      "                     \u001b[31mimage: \"{{workflow.parameters.docker-org}}/deepmnistclassifier_trainer:{{workflow.parameters.version}}\"\u001b[39;49;00m\r\n",
      "                     \u001b[31mname: \"tensorflow\"\u001b[39;49;00m\r\n",
      "                     \u001b[31mvolumeMounts:\u001b[39;49;00m\r\n",
      "                       \u001b[31m-\u001b[39;49;00m\r\n",
      "                         \u001b[31mmountPath: \"/data\"\u001b[39;49;00m\r\n",
      "                         \u001b[31mname: \"persistent-storage\"\u001b[39;49;00m\r\n",
      "                 \u001b[31mrestartPolicy: \"OnFailure\"\u001b[39;49;00m\r\n",
      "                 \u001b[31mvolumes:\u001b[39;49;00m\r\n",
      "                   \u001b[31m-\u001b[39;49;00m\r\n",
      "                     \u001b[31mname: \"persistent-storage\"\u001b[39;49;00m\r\n",
      "                     \u001b[31mpersistentVolumeClaim:\u001b[39;49;00m\r\n",
      "                       \u001b[31mclaimName: \"nfs-1\"\u001b[39;49;00m\r\n",
      "             \u001b[31mtfReplicaType: \"MASTER\"\u001b[39;49;00m\r\n"
     ]
    }
   ],
   "source": [
    "!pygmentize ../workflows/training-tf-mnist-workflow.yaml"
   ]
  },
  {
   "cell_type": "code",
   "execution_count": 12,
   "metadata": {},
   "outputs": [
    {
     "name": "stdout",
     "output_type": "stream",
     "text": [
      "Name:                kubeflow-tf-train-ktmjl\r\n",
      "Namespace:           kubeflow\r\n",
      "ServiceAccount:      tf-job-operator\r\n",
      "Status:              Pending\r\n",
      "Created:             Wed Jun 26 13:21:12 +0200 (1 second ago)\r\n",
      "Parameters:          \r\n",
      "  tfjob-version-hack: 1\r\n",
      "  version:           0.1\r\n",
      "  github-user:       kubeflow\r\n",
      "  github-revision:   master\r\n",
      "  docker-org:        index.docker.io/seldonio\r\n",
      "  build-push-image:  false\r\n"
     ]
    }
   ],
   "source": [
    "!argo submit --serviceaccount jupyter-notebook ../workflows/training-tf-mnist-workflow.yaml -p tfjob-version-hack=1"
   ]
  },
  {
   "cell_type": "code",
   "execution_count": 6,
   "metadata": {},
   "outputs": [
    {
     "name": "stdout",
     "output_type": "stream",
     "text": [
      "ERROR: logging before flag.Parse: E0626 12:47:36.549017   36926 request.go:853] Unexpected error when reading response body: &net.OpError{Op:\"read\", Net:\"tcp\", Source:(*net.TCPAddr)(0xc0004940f0), Addr:(*net.TCPAddr)(0xc000494120), Err:(*os.SyscallError)(0xc0002e8300)}\r\n",
      "2019/06/26 12:47:36 Unexpected error &net.OpError{Op:\"read\", Net:\"tcp\", Source:(*net.TCPAddr)(0xc0004940f0), Addr:(*net.TCPAddr)(0xc000494120), Err:(*os.SyscallError)(0xc0002e8300)} when reading response body. Please retry.\r\n"
     ]
    }
   ],
   "source": [
    "!argo list"
   ]
  },
  {
   "cell_type": "markdown",
   "metadata": {},
   "source": [
    "### Runtime Image\n",
    "\n",
    "Run with:\n",
    "  * ``` -p build-push-image=true``` to build image and push to repo, needed extra params:\n",
    "    * ``` -p version=<version>``` create ```<version>``` of model\n",
    "    * ``` -p github-user=<github-user>``` to download example-seldon source from ```<github-user>``` account\n",
    "    * ``` -p github-revision=<revision>``` to use the github branch ```<revision>```\n",
    "    * ``` -p docker-org=<docker-org>``` to use Docker user ```<docker-org>``` to push image to. Needs docker credentials in secret as described in README.\n",
    "  * ``` -p deploy-model=true``` to deploy model"
   ]
  },
  {
   "cell_type": "code",
   "execution_count": null,
   "metadata": {},
   "outputs": [],
   "source": [
    "!pygmentize ../workflows/serving-tf-mnist-workflow.yaml"
   ]
  },
  {
   "cell_type": "code",
   "execution_count": null,
   "metadata": {},
   "outputs": [],
   "source": [
    "!argo submit ../workflows/serving-tf-mnist-workflow.yaml"
   ]
  },
  {
   "cell_type": "code",
   "execution_count": null,
   "metadata": {},
   "outputs": [],
   "source": [
    "!argo list"
   ]
  },
  {
   "cell_type": "markdown",
   "metadata": {},
   "source": [
    "# Sklearn Model\n",
    "A Random forest in sklearn."
   ]
  },
  {
   "cell_type": "markdown",
   "metadata": {},
   "source": [
    "### Training\n",
    "\n",
    " * For options see above Tensorflow example"
   ]
  },
  {
   "cell_type": "code",
   "execution_count": null,
   "metadata": {},
   "outputs": [],
   "source": [
    "!pygmentize ../workflows/training-sk-mnist-workflow.yaml"
   ]
  },
  {
   "cell_type": "code",
   "execution_count": null,
   "metadata": {},
   "outputs": [],
   "source": [
    "!argo submit ../workflows/training-sk-mnist-workflow.yaml"
   ]
  },
  {
   "cell_type": "code",
   "execution_count": null,
   "metadata": {},
   "outputs": [],
   "source": [
    "!argo list"
   ]
  },
  {
   "cell_type": "markdown",
   "metadata": {},
   "source": [
    "### Runtime Image\n",
    " * For options see above Tensorflow example"
   ]
  },
  {
   "cell_type": "code",
   "execution_count": null,
   "metadata": {},
   "outputs": [],
   "source": [
    "!pygmentize ../workflows/serving-sk-mnist-workflow.yaml"
   ]
  },
  {
   "cell_type": "code",
   "execution_count": null,
   "metadata": {},
   "outputs": [],
   "source": [
    "!argo submit ../workflows/serving-sk-mnist-workflow.yaml"
   ]
  },
  {
   "cell_type": "code",
   "execution_count": null,
   "metadata": {},
   "outputs": [],
   "source": [
    "!argo list"
   ]
  },
  {
   "cell_type": "markdown",
   "metadata": {},
   "source": [
    "# R Model\n",
    "A partial least squares model in R."
   ]
  },
  {
   "cell_type": "markdown",
   "metadata": {},
   "source": [
    "### Training\n",
    "\n",
    " * For options see above Tensorflow example"
   ]
  },
  {
   "cell_type": "code",
   "execution_count": null,
   "metadata": {},
   "outputs": [],
   "source": [
    "!pygmentize ../workflows/training-r-mnist-workflow.yaml"
   ]
  },
  {
   "cell_type": "code",
   "execution_count": null,
   "metadata": {},
   "outputs": [],
   "source": [
    "!argo submit ../workflows/training-r-mnist-workflow.yaml"
   ]
  },
  {
   "cell_type": "code",
   "execution_count": null,
   "metadata": {},
   "outputs": [],
   "source": [
    "!argo list"
   ]
  },
  {
   "cell_type": "markdown",
   "metadata": {},
   "source": [
    "### Runtime Image\n",
    " * For options see above Tensorflow example"
   ]
  },
  {
   "cell_type": "code",
   "execution_count": null,
   "metadata": {},
   "outputs": [],
   "source": [
    "!pygmentize ../workflows/serving-r-mnist-workflow.yaml"
   ]
  },
  {
   "cell_type": "code",
   "execution_count": null,
   "metadata": {},
   "outputs": [],
   "source": [
    "!argo submit ../workflows/serving-r-mnist-workflow.yaml"
   ]
  },
  {
   "cell_type": "code",
   "execution_count": null,
   "metadata": {},
   "outputs": [],
   "source": [
    "!argo list"
   ]
  },
  {
   "cell_type": "code",
   "execution_count": null,
   "metadata": {},
   "outputs": [],
   "source": []
  }
 ],
 "metadata": {
  "kernelspec": {
   "display_name": "Python 3",
   "language": "python",
   "name": "python3"
  },
  "language_info": {
   "codemirror_mode": {
    "name": "ipython",
    "version": 3
   },
   "file_extension": ".py",
   "mimetype": "text/x-python",
   "name": "python",
   "nbconvert_exporter": "python",
   "pygments_lexer": "ipython3",
   "version": "3.7.3"
  }
 },
 "nbformat": 4,
 "nbformat_minor": 1
}
